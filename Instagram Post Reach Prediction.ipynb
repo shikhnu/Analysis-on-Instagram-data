{
 "cells": [
  {
   "cell_type": "code",
   "execution_count": 1,
   "metadata": {},
   "outputs": [],
   "source": [
    "import numpy as np\n",
    "import pandas as pd\n",
    "import seaborn as sns\n",
    "import matplotlib.pyplot as plt"
   ]
  },
  {
   "cell_type": "code",
   "execution_count": 2,
   "metadata": {},
   "outputs": [
    {
     "data": {
      "text/html": [
       "<div>\n",
       "<style scoped>\n",
       "    .dataframe tbody tr th:only-of-type {\n",
       "        vertical-align: middle;\n",
       "    }\n",
       "\n",
       "    .dataframe tbody tr th {\n",
       "        vertical-align: top;\n",
       "    }\n",
       "\n",
       "    .dataframe thead th {\n",
       "        text-align: right;\n",
       "    }\n",
       "</style>\n",
       "<table border=\"1\" class=\"dataframe\">\n",
       "  <thead>\n",
       "    <tr style=\"text-align: right;\">\n",
       "      <th></th>\n",
       "      <th>USERNAME</th>\n",
       "      <th>Caption</th>\n",
       "      <th>Followers</th>\n",
       "      <th>Hashtags</th>\n",
       "      <th>Time since posted</th>\n",
       "      <th>Likes</th>\n",
       "    </tr>\n",
       "  </thead>\n",
       "  <tbody>\n",
       "    <tr>\n",
       "      <th>0</th>\n",
       "      <td>mikequindazzi</td>\n",
       "      <td>Who are #DataScientist and what do they do? &gt;&gt;...</td>\n",
       "      <td>1600</td>\n",
       "      <td>#MachineLearning #AI #DataAnalytics #DataScien...</td>\n",
       "      <td>11 hours</td>\n",
       "      <td>139</td>\n",
       "    </tr>\n",
       "    <tr>\n",
       "      <th>1</th>\n",
       "      <td>drgorillapaints</td>\n",
       "      <td>We all know where it’s going. We just have to ...</td>\n",
       "      <td>880</td>\n",
       "      <td>#deck .#mac #macintosh#sayhello #apple #steve...</td>\n",
       "      <td>2 hours</td>\n",
       "      <td>23</td>\n",
       "    </tr>\n",
       "    <tr>\n",
       "      <th>2</th>\n",
       "      <td>aitrading_official</td>\n",
       "      <td>Alexander Barinov: 4 years as CFO in multinati...</td>\n",
       "      <td>255</td>\n",
       "      <td>#whoiswho #aitrading #ai #aitradingteam#instat...</td>\n",
       "      <td>2 hours</td>\n",
       "      <td>25</td>\n",
       "    </tr>\n",
       "    <tr>\n",
       "      <th>3</th>\n",
       "      <td>opensourcedworkplace</td>\n",
       "      <td>sfad</td>\n",
       "      <td>340</td>\n",
       "      <td>#iot #cre#workplace #CDO #bigdata #technology#...</td>\n",
       "      <td>3 hours</td>\n",
       "      <td>49</td>\n",
       "    </tr>\n",
       "    <tr>\n",
       "      <th>4</th>\n",
       "      <td>crea.vision</td>\n",
       "      <td>Ever missed a call while your phone was chargi...</td>\n",
       "      <td>304</td>\n",
       "      <td>#instamachinelearning #instabigdata#instamarke...</td>\n",
       "      <td>3 hours</td>\n",
       "      <td>30</td>\n",
       "    </tr>\n",
       "  </tbody>\n",
       "</table>\n",
       "</div>"
      ],
      "text/plain": [
       "               USERNAME                                            Caption  \\\n",
       "0         mikequindazzi  Who are #DataScientist and what do they do? >>...   \n",
       "1       drgorillapaints  We all know where it’s going. We just have to ...   \n",
       "2    aitrading_official  Alexander Barinov: 4 years as CFO in multinati...   \n",
       "3  opensourcedworkplace                                               sfad   \n",
       "4           crea.vision  Ever missed a call while your phone was chargi...   \n",
       "\n",
       "   Followers                                           Hashtags  \\\n",
       "0       1600  #MachineLearning #AI #DataAnalytics #DataScien...   \n",
       "1        880   #deck .#mac #macintosh#sayhello #apple #steve...   \n",
       "2        255  #whoiswho #aitrading #ai #aitradingteam#instat...   \n",
       "3        340  #iot #cre#workplace #CDO #bigdata #technology#...   \n",
       "4        304  #instamachinelearning #instabigdata#instamarke...   \n",
       "\n",
       "  Time since posted  Likes  \n",
       "0          11 hours    139  \n",
       "1           2 hours     23  \n",
       "2           2 hours     25  \n",
       "3           3 hours     49  \n",
       "4           3 hours     30  "
      ]
     },
     "execution_count": 2,
     "metadata": {},
     "output_type": "execute_result"
    }
   ],
   "source": [
    "df = pd.read_csv(\"instagram_reach.csv\")\n",
    "df.head()"
   ]
  },
  {
   "cell_type": "code",
   "execution_count": 3,
   "metadata": {},
   "outputs": [
    {
     "data": {
      "text/html": [
       "<div>\n",
       "<style scoped>\n",
       "    .dataframe tbody tr th:only-of-type {\n",
       "        vertical-align: middle;\n",
       "    }\n",
       "\n",
       "    .dataframe tbody tr th {\n",
       "        vertical-align: top;\n",
       "    }\n",
       "\n",
       "    .dataframe thead th {\n",
       "        text-align: right;\n",
       "    }\n",
       "</style>\n",
       "<table border=\"1\" class=\"dataframe\">\n",
       "  <thead>\n",
       "    <tr style=\"text-align: right;\">\n",
       "      <th></th>\n",
       "      <th>USERNAME</th>\n",
       "      <th>Caption</th>\n",
       "      <th>Followers</th>\n",
       "      <th>Hashtags</th>\n",
       "      <th>Time since posted</th>\n",
       "      <th>Likes</th>\n",
       "    </tr>\n",
       "  </thead>\n",
       "  <tbody>\n",
       "    <tr>\n",
       "      <th>95</th>\n",
       "      <td>michaelgarza__</td>\n",
       "      <td>328 S. Wetherly Drive, Beverly Hills, CA 90212...</td>\n",
       "      <td>614</td>\n",
       "      <td>#beverlyhills #realestate#losangelesrealestate...</td>\n",
       "      <td>3 hours</td>\n",
       "      <td>31</td>\n",
       "    </tr>\n",
       "    <tr>\n",
       "      <th>96</th>\n",
       "      <td>dvlp_search</td>\n",
       "      <td>Credit @tristankappel To find more dvlp follow...</td>\n",
       "      <td>450</td>\n",
       "      <td>#workspace #work #developer#development #devel...</td>\n",
       "      <td>3 hours</td>\n",
       "      <td>42</td>\n",
       "    </tr>\n",
       "    <tr>\n",
       "      <th>97</th>\n",
       "      <td>ecom.space</td>\n",
       "      <td>We are coming up with the Best 21 Books that w...</td>\n",
       "      <td>182</td>\n",
       "      <td>#books #book #motivation #inspiration #life#bo...</td>\n",
       "      <td>3 hours</td>\n",
       "      <td>10</td>\n",
       "    </tr>\n",
       "    <tr>\n",
       "      <th>98</th>\n",
       "      <td>lb3enterprises</td>\n",
       "      <td>We’re only paid to move dirt once. It’s not ju...</td>\n",
       "      <td>2039</td>\n",
       "      <td>#heavyequipment #underconstruction#dozer #real...</td>\n",
       "      <td>3 hours</td>\n",
       "      <td>222</td>\n",
       "    </tr>\n",
       "    <tr>\n",
       "      <th>99</th>\n",
       "      <td>palmariusdev</td>\n",
       "      <td>Obtén tu tienda en línea ahora.</td>\n",
       "      <td>741</td>\n",
       "      <td>#marketing #programming#development #desarroll...</td>\n",
       "      <td>3 hours</td>\n",
       "      <td>109</td>\n",
       "    </tr>\n",
       "  </tbody>\n",
       "</table>\n",
       "</div>"
      ],
      "text/plain": [
       "          USERNAME                                            Caption  \\\n",
       "95  michaelgarza__  328 S. Wetherly Drive, Beverly Hills, CA 90212...   \n",
       "96     dvlp_search  Credit @tristankappel To find more dvlp follow...   \n",
       "97      ecom.space  We are coming up with the Best 21 Books that w...   \n",
       "98  lb3enterprises  We’re only paid to move dirt once. It’s not ju...   \n",
       "99    palmariusdev                    Obtén tu tienda en línea ahora.   \n",
       "\n",
       "    Followers                                           Hashtags  \\\n",
       "95        614  #beverlyhills #realestate#losangelesrealestate...   \n",
       "96        450  #workspace #work #developer#development #devel...   \n",
       "97        182  #books #book #motivation #inspiration #life#bo...   \n",
       "98       2039  #heavyequipment #underconstruction#dozer #real...   \n",
       "99        741  #marketing #programming#development #desarroll...   \n",
       "\n",
       "   Time since posted  Likes  \n",
       "95           3 hours     31  \n",
       "96           3 hours     42  \n",
       "97           3 hours     10  \n",
       "98           3 hours    222  \n",
       "99           3 hours    109  "
      ]
     },
     "execution_count": 3,
     "metadata": {},
     "output_type": "execute_result"
    }
   ],
   "source": [
    "df.tail()"
   ]
  },
  {
   "cell_type": "code",
   "execution_count": 4,
   "metadata": {},
   "outputs": [
    {
     "data": {
      "text/plain": [
       "(100, 6)"
      ]
     },
     "execution_count": 4,
     "metadata": {},
     "output_type": "execute_result"
    }
   ],
   "source": [
    "df.shape"
   ]
  },
  {
   "cell_type": "code",
   "execution_count": 5,
   "metadata": {},
   "outputs": [
    {
     "name": "stdout",
     "output_type": "stream",
     "text": [
      "<class 'pandas.core.frame.DataFrame'>\n",
      "RangeIndex: 100 entries, 0 to 99\n",
      "Data columns (total 6 columns):\n",
      " #   Column             Non-Null Count  Dtype \n",
      "---  ------             --------------  ----- \n",
      " 0   USERNAME           100 non-null    object\n",
      " 1   Caption            94 non-null     object\n",
      " 2   Followers          100 non-null    int64 \n",
      " 3   Hashtags           100 non-null    object\n",
      " 4   Time since posted  100 non-null    object\n",
      " 5   Likes              100 non-null    int64 \n",
      "dtypes: int64(2), object(4)\n",
      "memory usage: 4.8+ KB\n"
     ]
    }
   ],
   "source": [
    "df.info()"
   ]
  },
  {
   "cell_type": "code",
   "execution_count": 6,
   "metadata": {},
   "outputs": [],
   "source": [
    "df['Time since posted'] = df['Time since posted'].str[:2].astype('int64')\n",
    "df.rename(columns = {'Time since posted':'Time since posted(hours)'}, inplace = True)"
   ]
  },
  {
   "cell_type": "code",
   "execution_count": 7,
   "metadata": {},
   "outputs": [
    {
     "data": {
      "text/html": [
       "<div>\n",
       "<style scoped>\n",
       "    .dataframe tbody tr th:only-of-type {\n",
       "        vertical-align: middle;\n",
       "    }\n",
       "\n",
       "    .dataframe tbody tr th {\n",
       "        vertical-align: top;\n",
       "    }\n",
       "\n",
       "    .dataframe thead th {\n",
       "        text-align: right;\n",
       "    }\n",
       "</style>\n",
       "<table border=\"1\" class=\"dataframe\">\n",
       "  <thead>\n",
       "    <tr style=\"text-align: right;\">\n",
       "      <th></th>\n",
       "      <th>USERNAME</th>\n",
       "      <th>Caption</th>\n",
       "      <th>Followers</th>\n",
       "      <th>Hashtags</th>\n",
       "      <th>Time since posted(hours)</th>\n",
       "      <th>Likes</th>\n",
       "    </tr>\n",
       "  </thead>\n",
       "  <tbody>\n",
       "    <tr>\n",
       "      <th>0</th>\n",
       "      <td>mikequindazzi</td>\n",
       "      <td>Who are #DataScientist and what do they do? &gt;&gt;...</td>\n",
       "      <td>1600</td>\n",
       "      <td>#MachineLearning #AI #DataAnalytics #DataScien...</td>\n",
       "      <td>11</td>\n",
       "      <td>139</td>\n",
       "    </tr>\n",
       "    <tr>\n",
       "      <th>1</th>\n",
       "      <td>drgorillapaints</td>\n",
       "      <td>We all know where it’s going. We just have to ...</td>\n",
       "      <td>880</td>\n",
       "      <td>#deck .#mac #macintosh#sayhello #apple #steve...</td>\n",
       "      <td>2</td>\n",
       "      <td>23</td>\n",
       "    </tr>\n",
       "    <tr>\n",
       "      <th>2</th>\n",
       "      <td>aitrading_official</td>\n",
       "      <td>Alexander Barinov: 4 years as CFO in multinati...</td>\n",
       "      <td>255</td>\n",
       "      <td>#whoiswho #aitrading #ai #aitradingteam#instat...</td>\n",
       "      <td>2</td>\n",
       "      <td>25</td>\n",
       "    </tr>\n",
       "    <tr>\n",
       "      <th>3</th>\n",
       "      <td>opensourcedworkplace</td>\n",
       "      <td>sfad</td>\n",
       "      <td>340</td>\n",
       "      <td>#iot #cre#workplace #CDO #bigdata #technology#...</td>\n",
       "      <td>3</td>\n",
       "      <td>49</td>\n",
       "    </tr>\n",
       "    <tr>\n",
       "      <th>4</th>\n",
       "      <td>crea.vision</td>\n",
       "      <td>Ever missed a call while your phone was chargi...</td>\n",
       "      <td>304</td>\n",
       "      <td>#instamachinelearning #instabigdata#instamarke...</td>\n",
       "      <td>3</td>\n",
       "      <td>30</td>\n",
       "    </tr>\n",
       "  </tbody>\n",
       "</table>\n",
       "</div>"
      ],
      "text/plain": [
       "               USERNAME                                            Caption  \\\n",
       "0         mikequindazzi  Who are #DataScientist and what do they do? >>...   \n",
       "1       drgorillapaints  We all know where it’s going. We just have to ...   \n",
       "2    aitrading_official  Alexander Barinov: 4 years as CFO in multinati...   \n",
       "3  opensourcedworkplace                                               sfad   \n",
       "4           crea.vision  Ever missed a call while your phone was chargi...   \n",
       "\n",
       "   Followers                                           Hashtags  \\\n",
       "0       1600  #MachineLearning #AI #DataAnalytics #DataScien...   \n",
       "1        880   #deck .#mac #macintosh#sayhello #apple #steve...   \n",
       "2        255  #whoiswho #aitrading #ai #aitradingteam#instat...   \n",
       "3        340  #iot #cre#workplace #CDO #bigdata #technology#...   \n",
       "4        304  #instamachinelearning #instabigdata#instamarke...   \n",
       "\n",
       "   Time since posted(hours)  Likes  \n",
       "0                        11    139  \n",
       "1                         2     23  \n",
       "2                         2     25  \n",
       "3                         3     49  \n",
       "4                         3     30  "
      ]
     },
     "execution_count": 7,
     "metadata": {},
     "output_type": "execute_result"
    }
   ],
   "source": [
    "df.head()"
   ]
  },
  {
   "cell_type": "code",
   "execution_count": 8,
   "metadata": {},
   "outputs": [],
   "source": [
    "df1 = df.copy() \n",
    "df1 = df1[['Followers','Time since posted(hours)','Likes']]"
   ]
  },
  {
   "cell_type": "code",
   "execution_count": 9,
   "metadata": {},
   "outputs": [
    {
     "data": {
      "image/png": "[encoded data removed]",
      "text/plain": [
       "<Figure size 432x288 with 1 Axes>"
      ]
     },
     "metadata": {
      "needs_background": "light"
     },
     "output_type": "display_data"
    }
   ],
   "source": [
    "# Checking distribution of column Followers\n",
    "sns.distplot(df1['Followers'])\n",
    "plt.show()"
   ]
  },
  {
   "cell_type": "raw",
   "metadata": {},
   "source": [
    "- The column is positively skewed"
   ]
  },
  {
   "cell_type": "code",
   "execution_count": 10,
   "metadata": {},
   "outputs": [
    {
     "data": {
      "image/png": "[encoded data removed]",
      "text/plain": [
       "<Figure size 432x288 with 1 Axes>"
      ]
     },
     "metadata": {
      "needs_background": "light"
     },
     "output_type": "display_data"
    }
   ],
   "source": [
    "from scipy import stats\n",
    "\n",
    "# Applying box_cox transformation\n",
    "followers_boxcox = stats.boxcox(df1['Followers'])[0]\n",
    "\n",
    "# Checking distribution after transformation\n",
    "sns.distplot(followers_boxcox)\n",
    "plt.show()"
   ]
  },
  {
   "cell_type": "raw",
   "metadata": {},
   "source": [
    "- The distributions is almost like normal distribution"
   ]
  },
  {
   "cell_type": "code",
   "execution_count": 11,
   "metadata": {},
   "outputs": [],
   "source": [
    "# Applying box_cox transformation and saving in the column\n",
    "df1['Followers'] = stats.boxcox(df1['Followers'])[0]"
   ]
  },
  {
   "cell_type": "code",
   "execution_count": 12,
   "metadata": {},
   "outputs": [
    {
     "data": {
      "image/png": "[encoded data removed]",
      "text/plain": [
       "<Figure size 432x288 with 1 Axes>"
      ]
     },
     "metadata": {
      "needs_background": "light"
     },
     "output_type": "display_data"
    }
   ],
   "source": [
    "# Checking distribution of the column\n",
    "sns.distplot(df1['Time since posted(hours)'])\n",
    "plt.show()"
   ]
  },
  {
   "cell_type": "code",
   "execution_count": 13,
   "metadata": {},
   "outputs": [
    {
     "data": {
      "image/png": "[encoded data removed]",
      "text/plain": [
       "<Figure size 432x288 with 1 Axes>"
      ]
     },
     "metadata": {
      "needs_background": "light"
     },
     "output_type": "display_data"
    }
   ],
   "source": [
    "# Boxplot to check outliers\n",
    "sns.boxplot(df1['Time since posted(hours)'])\n",
    "plt.show()"
   ]
  },
  {
   "cell_type": "code",
   "execution_count": 14,
   "metadata": {},
   "outputs": [],
   "source": [
    "# Seclection data with 'Time since posted(hours)' value less than or equal to 20\n",
    "df1 = df1[df1['Time since posted(hours)'] < 20]"
   ]
  },
  {
   "cell_type": "code",
   "execution_count": 15,
   "metadata": {},
   "outputs": [
    {
     "data": {
      "image/png": "[encoded data removed]",
      "text/plain": [
       "<Figure size 432x288 with 1 Axes>"
      ]
     },
     "metadata": {
      "needs_background": "light"
     },
     "output_type": "display_data"
    }
   ],
   "source": [
    "# Applying box_cox transformation\n",
    "time_boxcox = stats.boxcox(df1['Time since posted(hours)'])[0]\n",
    "\n",
    "# Checking distribution after transformation\n",
    "sns.distplot(time_boxcox)\n",
    "plt.show()"
   ]
  },
  {
   "cell_type": "code",
   "execution_count": 16,
   "metadata": {},
   "outputs": [],
   "source": [
    "# Applying box_cox transformation and saving in the column\n",
    "df1['Time since posted(hours)'] = stats.boxcox(df1['Time since posted(hours)'])[0]"
   ]
  },
  {
   "cell_type": "code",
   "execution_count": 17,
   "metadata": {},
   "outputs": [
    {
     "data": {
      "image/png": "[encoded data removed]",
      "text/plain": [
       "<Figure size 504x360 with 2 Axes>"
      ]
     },
     "metadata": {
      "needs_background": "light"
     },
     "output_type": "display_data"
    }
   ],
   "source": [
    "#correlation plot\n",
    "plt.figure(figsize=(7,5))\n",
    "correlation_matrix = df1.corr()\n",
    "# annot = True to print the values inside the square\n",
    "sns.heatmap(data=correlation_matrix, annot=True)\n",
    "plt.show()"
   ]
  },
  {
   "cell_type": "code",
   "execution_count": 18,
   "metadata": {},
   "outputs": [],
   "source": [
    "# Seperating independent and dependant variable\n",
    "X = df1[['Followers','Time since posted(hours)']]\n",
    "y = df1['Likes']"
   ]
  },
  {
   "cell_type": "code",
   "execution_count": 19,
   "metadata": {},
   "outputs": [],
   "source": [
    "from sklearn import preprocessing \n",
    "\n",
    "# Standarizing the independent variable\n",
    "scaler = preprocessing.RobustScaler() \n",
    "X_standard = scaler.fit_transform(X) \n",
    "X_standard = pd.DataFrame(X_standard, columns =X.columns)"
   ]
  },
  {
   "cell_type": "code",
   "execution_count": 20,
   "metadata": {},
   "outputs": [
    {
     "data": {
      "text/html": [
       "<div>\n",
       "<style scoped>\n",
       "    .dataframe tbody tr th:only-of-type {\n",
       "        vertical-align: middle;\n",
       "    }\n",
       "\n",
       "    .dataframe tbody tr th {\n",
       "        vertical-align: top;\n",
       "    }\n",
       "\n",
       "    .dataframe thead th {\n",
       "        text-align: right;\n",
       "    }\n",
       "</style>\n",
       "<table border=\"1\" class=\"dataframe\">\n",
       "  <thead>\n",
       "    <tr style=\"text-align: right;\">\n",
       "      <th></th>\n",
       "      <th>count</th>\n",
       "      <th>mean</th>\n",
       "      <th>std</th>\n",
       "      <th>min</th>\n",
       "      <th>25%</th>\n",
       "      <th>50%</th>\n",
       "      <th>75%</th>\n",
       "      <th>max</th>\n",
       "    </tr>\n",
       "  </thead>\n",
       "  <tbody>\n",
       "    <tr>\n",
       "      <th>Followers</th>\n",
       "      <td>98.0</td>\n",
       "      <td>-0.017689</td>\n",
       "      <td>0.772813</td>\n",
       "      <td>-1.82149</td>\n",
       "      <td>-0.523268</td>\n",
       "      <td>-1.717376e-16</td>\n",
       "      <td>0.476732</td>\n",
       "      <td>1.609808</td>\n",
       "    </tr>\n",
       "    <tr>\n",
       "      <th>Time since posted(hours)</th>\n",
       "      <td>98.0</td>\n",
       "      <td>0.523378</td>\n",
       "      <td>0.642983</td>\n",
       "      <td>0.00000</td>\n",
       "      <td>0.000000</td>\n",
       "      <td>0.000000e+00</td>\n",
       "      <td>1.000000</td>\n",
       "      <td>1.727417</td>\n",
       "    </tr>\n",
       "  </tbody>\n",
       "</table>\n",
       "</div>"
      ],
      "text/plain": [
       "                          count      mean       std      min       25%  \\\n",
       "Followers                  98.0 -0.017689  0.772813 -1.82149 -0.523268   \n",
       "Time since posted(hours)   98.0  0.523378  0.642983  0.00000  0.000000   \n",
       "\n",
       "                                   50%       75%       max  \n",
       "Followers                -1.717376e-16  0.476732  1.609808  \n",
       "Time since posted(hours)  0.000000e+00  1.000000  1.727417  "
      ]
     },
     "execution_count": 20,
     "metadata": {},
     "output_type": "execute_result"
    }
   ],
   "source": [
    "# Five point summary\n",
    "X_standard.describe().T"
   ]
  },
  {
   "cell_type": "code",
   "execution_count": 21,
   "metadata": {},
   "outputs": [],
   "source": [
    "from sklearn.model_selection import train_test_split\n",
    "\n",
    "X_train, X_test, y_train, y_test = train_test_split(X, y, test_size=0.20, random_state=1)"
   ]
  },
  {
   "cell_type": "code",
   "execution_count": 22,
   "metadata": {},
   "outputs": [],
   "source": [
    "# Importing LinearRegression from sklearn\n",
    "from sklearn.linear_model import LinearRegression\n",
    "\n",
    "# Creating object and fitting the model\n",
    "lin_reg = LinearRegression()\n",
    "model = lin_reg.fit(X_train,y_train)"
   ]
  },
  {
   "cell_type": "code",
   "execution_count": 23,
   "metadata": {},
   "outputs": [],
   "source": [
    "# Predicting for test dataset\n",
    "y_pred = model.predict(X_test)"
   ]
  },
  {
   "cell_type": "code",
   "execution_count": 24,
   "metadata": {},
   "outputs": [
    {
     "name": "stdout",
     "output_type": "stream",
     "text": [
      "MSE: 425.4\n",
      "MAE: 425.4\n",
      "RMSE: 20.63\n"
     ]
    }
   ],
   "source": [
    "# Model Evaluation \n",
    "\n",
    "# Importing metrics from sklearn \n",
    "from sklearn.metrics import mean_squared_error, mean_absolute_error\n",
    "\n",
    "# To find Mean Squared Error(mse)\n",
    "mse = ((mean_squared_error(y_test, y_pred)))\n",
    "print(\"MSE:\",round(mse,2))\n",
    "\n",
    "# To find Mean Absolute Error(mse)\n",
    "mae = (mean_absolute_error(y_test, y_pred))\n",
    "print(\"MAE:\",round(mse,2))\n",
    "\n",
    "# To find Root Mean Squared Error(rmse)\n",
    "rmse = (np.sqrt(mean_squared_error(y_test, y_pred)))\n",
    "print(\"RMSE:\",round(rmse,2))"
   ]
  }
 ],
 "metadata": {
  "kernelspec": {
   "display_name": "Python 3",
   "language": "python",
   "name": "python3"
  },
  "language_info": {
   "codemirror_mode": {
    "name": "ipython",
    "version": 3
   },
   "file_extension": ".py",
   "mimetype": "text/x-python",
   "name": "python",
   "nbconvert_exporter": "python",
   "pygments_lexer": "ipython3",
   "version": "3.7.7"
  }
 },
 "nbformat": 4,
 "nbformat_minor": 4
}
